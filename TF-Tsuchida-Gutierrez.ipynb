{
 "cells": [
  {
   "cell_type": "markdown",
   "id": "9e179958-1b46-43e0-9456-78884c0fd96c",
   "metadata": {},
   "source": [
    "# Trabajo Final"
   ]
  },
  {
   "cell_type": "markdown",
   "id": "453f5de0-7ea8-4648-9df0-9fb7ec929445",
   "metadata": {},
   "source": [
    "## Kozume Tsuchida y Nicolás Gutiérrez"
   ]
  },
  {
   "cell_type": "markdown",
   "id": "967a1c75-d924-495c-ad49-80f05f864979",
   "metadata": {},
   "source": [
    "### Preparar la base de datos"
   ]
  },
  {
   "cell_type": "code",
   "execution_count": 1,
   "id": "de141b96-2e9a-4f7e-a30c-81703225eea8",
   "metadata": {},
   "outputs": [],
   "source": [
    "import pandas as pd \n",
    "data = pd.read_excel()"
   ]
  },
  {
   "cell_type": "code",
   "execution_count": 2,
   "id": "9c619ce4-1c6a-49fc-ba41-f180757abb17",
   "metadata": {},
   "outputs": [],
   "source": []
  },
  {
   "cell_type": "code",
   "execution_count": 46,
   "id": "feee1f30-1cfe-468c-a360-cf4e67842b45",
   "metadata": {},
   "outputs": [
    {
     "name": "stdout",
     "output_type": "stream",
     "text": [
      "Total results: 0\n"
     ]
    }
   ],
   "source": []
  },
  {
   "cell_type": "code",
   "execution_count": null,
   "id": "759611dc-50b8-4b2d-a675-04d8289692fd",
   "metadata": {},
   "outputs": [],
   "source": []
  }
 ],
 "metadata": {
  "kernelspec": {
   "display_name": "Python [conda env:base] *",
   "language": "python",
   "name": "conda-base-py"
  },
  "language_info": {
   "codemirror_mode": {
    "name": "ipython",
    "version": 3
   },
   "file_extension": ".py",
   "mimetype": "text/x-python",
   "name": "python",
   "nbconvert_exporter": "python",
   "pygments_lexer": "ipython3",
   "version": "3.12.7"
  }
 },
 "nbformat": 4,
 "nbformat_minor": 5
}
